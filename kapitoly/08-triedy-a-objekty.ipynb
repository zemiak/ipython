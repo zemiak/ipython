{
 "cells": [
  {
   "cell_type": "markdown",
   "metadata": {},
   "source": [
    "# Triedy\n",
    "Triedy su nieco ako druhy zvierat.\n",
    "\n",
    "## Mackovite selmy\n",
    "Tento druh zvierat obsahuje zvierata, ktore podobne vyzeraju, podobne sa spravaju, rovnako sa mnozia a zeru taky isty druh potravy.\n",
    "\n",
    "Ukazeme si priklad triedy mackovitej selmy. Vsimni si, ze v Pythone ma kazda funkcia patriaca do triedy ako prvy parameter vzdy **self**. Tento parameter (premenna) ukazuje na tvoj konkretny objekt vytvoreny z triedy."
   ]
  },
  {
   "cell_type": "code",
   "execution_count": null,
   "metadata": {},
   "outputs": [],
   "source": [
    "class MackovitaSelma:\n",
    "    def nastavDruh(self, druh):\n",
    "        self.druh = druh\n",
    "\n",
    "    def vypisDruh(self):\n",
    "        print(self.druh)\n",
    "\n",
    "selma = MackovitaSelma()\n",
    "selma.nastavDruh(\"macka\")\n",
    "selma.vypisDruh()"
   ]
  },
  {
   "cell_type": "markdown",
   "metadata": {},
   "source": [
    "Tato trieda toho nevie vela urobit, iba napisat meno. Navyse jej to meno musime najprv povedat. Skusme to spravit lepsie. Vsimni si v nasledujucom priklade funkciu **__init__(self)**. Tato funkcia sa vola hned, ako z triedy vytvoris konkretny objekt.\n",
    "\n",
    "### Ulohy\n",
    "* povedz, co vypise selma1.vypisMeno(), selma2.vypisMeno() a preco\n",
    "* skus uhadnut, co je funkcia isinstance a co vypise v prvom a druhom pripade\n",
    "* skus uhadnut, co spravi selma3.vypisMeno() a preco"
   ]
  },
  {
   "cell_type": "code",
   "execution_count": null,
   "metadata": {},
   "outputs": [],
   "source": [
    "class MackovitaSelma:\n",
    "    def nastavDruh(self, druh):\n",
    "        self.druh = druh\n",
    "\n",
    "    def vypisDruh(self):\n",
    "        print(self.druh)\n",
    "\n",
    "class Macka(MackovitaSelma):\n",
    "    def __init__(self):\n",
    "        self.nastavDruh(\"macka\")\n",
    "\n",
    "class Lev(MackovitaSelma):\n",
    "    def __init__(self):\n",
    "        self.nastavDruh(\"lev\")\n",
    "\n",
    "selma1 = Macka()\n",
    "selma1.vypisDruh()\n",
    "\n",
    "selma2 = Lev()\n",
    "selma2.vypisDruh()\n",
    "\n",
    "print(isinstance(selma1, MackovitaSelma))\n",
    "print(isinstance(selma1, Lev))\n",
    "\n",
    "selma3 = MackovitaSelma()\n",
    "selma3.vypisDruh()"
   ]
  },
  {
   "cell_type": "markdown",
   "metadata": {},
   "source": [
    "## Rozsirovanie moznosti tried\n",
    "\n",
    "Macka a Lev su pod-triedy (subclasses) triedy MackovitaSelma. To neznamena, ze mozu robit len to, co MackovitaSelma. Mozu robit aj nieco ine.\n",
    "\n",
    "### Ulohy\n",
    "* co vypise nasledujuci program?"
   ]
  },
  {
   "cell_type": "code",
   "execution_count": null,
   "metadata": {},
   "outputs": [],
   "source": [
    "class MackovitaSelma:\n",
    "    def nastavDruh(self, druh):\n",
    "        self.druh = druh\n",
    "\n",
    "    def vypisDruh(self):\n",
    "        print(self.druh)\n",
    "\n",
    "class Macka(MackovitaSelma):\n",
    "    def __init__(self):\n",
    "        self.nastavDruh(\"macka\")\n",
    "\n",
    "    def nastavMeno(self, meno):\n",
    "        self.meno = meno\n",
    "    \n",
    "    def vypisMeno(self):\n",
    "        print(self.meno)\n",
    "\n",
    "class Lev(MackovitaSelma):\n",
    "    def __init__(self):\n",
    "        self.nastavDruh(\"lev\")\n",
    "\n",
    "micka = Macka()\n",
    "micka.nastavMeno(\"Micka\")\n",
    "micka.vypisDruh()\n",
    "micka.vypisMeno()\n",
    "\n",
    "murko = Lev()\n",
    "murko.nastavMeno(\"Murko\")\n"
   ]
  }
 ],
 "metadata": {
  "interpreter": {
   "hash": "31f2aee4e71d21fbe5cf8b01ff0e069b9275f58929596ceb00d14d90e3e16cd6"
  },
  "kernelspec": {
   "display_name": "Python 3.7.3 64-bit",
   "language": "python",
   "name": "python3"
  },
  "language_info": {
   "codemirror_mode": {
    "name": "ipython",
    "version": 3
   },
   "file_extension": ".py",
   "mimetype": "text/x-python",
   "name": "python",
   "nbconvert_exporter": "python",
   "pygments_lexer": "ipython3",
   "version": "3.7.3"
  },
  "orig_nbformat": 4
 },
 "nbformat": 4,
 "nbformat_minor": 2
}
