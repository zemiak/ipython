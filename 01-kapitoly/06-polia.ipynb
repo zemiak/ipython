{
 "cells": [
  {
   "cell_type": "markdown",
   "metadata": {},
   "source": [
    "# Kolekcie\n",
    "### alebo: polia, collections, zbierky (?)\n",
    "Je to zbierka, zoznam veci co patria k sebe. Napriklad cisla, riadky textu v knihe, slova vo vete, zoznam zvierat v lese"
   ]
  },
  {
   "cell_type": "code",
   "execution_count": null,
   "metadata": {},
   "outputs": [],
   "source": [
    "zbierkaCiselOd0po9 = [0, 1, 2, 3, 4, 5, 6, 7, 8, 9]\n",
    "print(zbierkaCiselOd0po9)"
   ]
  },
  {
   "cell_type": "code",
   "execution_count": null,
   "metadata": {},
   "outputs": [],
   "source": [
    "# funkcie z kniznice tiez mozu vratit pole\n",
    "slovaVoVete = [\"R2D2\", \"pipa\", \"ako\", \"pokazena\", \"chladnicka.\"]\n",
    "print(slovaVoVete)\n",
    "\n",
    "# vypiseme to krajsie\n",
    "print(\" \".join(slovaVoVete))"
   ]
  },
  {
   "cell_type": "markdown",
   "metadata": {},
   "source": [
    "## Pole ma aj vlastnosti\n",
    "Ako napriklad dlzku alebo pocet prvkov v nom"
   ]
  },
  {
   "cell_type": "code",
   "execution_count": null,
   "metadata": {},
   "outputs": [],
   "source": [
    "slovaVoVete = [\"R2D2\", \"pipa\", \"ako\", \"pokazena\", \"chladnicka.\"]\n",
    "print(len(slovaVoVete))"
   ]
  },
  {
   "cell_type": "markdown",
   "metadata": {},
   "source": [
    "## Pole sa da menit\n",
    "Pridavat nove veci, mazat existujuce"
   ]
  },
  {
   "cell_type": "code",
   "execution_count": null,
   "metadata": {},
   "outputs": [],
   "source": [
    "slovaVoVete = [\"R2D2\", \"pipa\", \"ako\", \"pokazena\", \"chladnicka.\"]\n",
    "print(slovaVoVete)\n",
    "\n",
    "# vymazeme posledne slovo --> -1 znamena prve slovo od konca\n",
    "del slovaVoVete[-1]\n",
    "print(slovaVoVete)\n",
    "\n",
    "# a pridame nove slovo\n",
    "slovaVoVete.append(\"pracka.\")\n",
    "print(slovaVoVete)\n",
    "\n",
    "# vymenime prve slovo\n",
    "del slovaVoVete[0] # nezabudni, pre pocitac prve znamena vacsinou to s cislom 0\n",
    "slovaVoVete.insert(0, \"BB8\") # na poziciu nula --> pre pocitac to znamena na prvu poziciu\n",
    "print(slovaVoVete)\n",
    "\n",
    "# Vymazeme slovo \"pokazena\"\n",
    "slovaVoVete.remove(\"pokazena\")\n",
    "print(slovaVoVete)"
   ]
  },
  {
   "cell_type": "markdown",
   "metadata": {},
   "source": [
    "## Vyhladavanie\n",
    "Vsimni si: preco je pozicia taka ako je. Vysvetli."
   ]
  },
  {
   "cell_type": "code",
   "execution_count": null,
   "metadata": {},
   "outputs": [],
   "source": [
    "slovaVoVete = [\"R2D2\", \"pipa\", \"ako\", \"pokazena\", \"chladnicka.\"]\n",
    "\n",
    "# vyhladame, na ktorej pozicii sa nachadza zadane slovo\n",
    "pozicia = slovaVoVete.index(\"ako\")\n",
    "print(pozicia)"
   ]
  },
  {
   "cell_type": "markdown",
   "metadata": {},
   "source": [
    "## Rozsirovanie pola o viac ako jeden prvok"
   ]
  },
  {
   "cell_type": "code",
   "execution_count": null,
   "metadata": {},
   "outputs": [],
   "source": [
    "slovaVoVete = [\"R2D2\", \"pipa\", \"ako\", \"pokazena\", \"chladnicka.\"]\n",
    "\n",
    "# pridame viac dalsich slov\n",
    "c3po = [\"C3PO\", \"je\", \"najlepsi!\"]\n",
    "slovaVoVete.extend(c3po)\n",
    "print(slovaVoVete)"
   ]
  },
  {
   "cell_type": "markdown",
   "metadata": {},
   "source": [
    "## Cyklus\n",
    "V predchadzajucej lekcii o cykloch sme si vraveli o funkcii range(). Opakovanie nad polami je velmi podobne\n",
    "### Pripomenutie cyklu nad range()"
   ]
  },
  {
   "cell_type": "code",
   "execution_count": null,
   "metadata": {},
   "outputs": [],
   "source": [
    "for i in range(10):\n",
    "    print(i)"
   ]
  },
  {
   "cell_type": "markdown",
   "metadata": {},
   "source": [
    "### A teraz nad polom"
   ]
  },
  {
   "cell_type": "code",
   "execution_count": null,
   "metadata": {},
   "outputs": [],
   "source": [
    "slovaVoVete = [\"R2D2\", \"pipa\", \"ako\", \"pokazena\", \"chladnicka.\"]\n",
    "for slovo in slovaVoVete:\n",
    "    print(slovo)"
   ]
  },
  {
   "cell_type": "markdown",
   "metadata": {},
   "source": [
    "## Polia nemusia mat rovnake prvky"
   ]
  },
  {
   "cell_type": "code",
   "execution_count": null,
   "metadata": {},
   "outputs": [],
   "source": [
    "import math\n",
    "slovaVoVeteANielenTo = [\"R\", 2, \"D\", 2, \"pipa\", \"ako\", \"pokazena\", \"chladnicka.\", math.pi]\n",
    "print(slovaVoVeteANielenTo)"
   ]
  }
 ],
 "metadata": {
  "interpreter": {
   "hash": "b0fa6594d8f4cbf19f97940f81e996739fb7646882a419484c72d19e05852a7e"
  },
  "kernelspec": {
   "display_name": "Python 3.9.10 64-bit",
   "language": "python",
   "name": "python3"
  },
  "language_info": {
   "codemirror_mode": {
    "name": "ipython",
    "version": 3
   },
   "file_extension": ".py",
   "mimetype": "text/x-python",
   "name": "python",
   "nbconvert_exporter": "python",
   "pygments_lexer": "ipython3",
   "version": "3.9.10"
  },
  "orig_nbformat": 4
 },
 "nbformat": 4,
 "nbformat_minor": 2
}
