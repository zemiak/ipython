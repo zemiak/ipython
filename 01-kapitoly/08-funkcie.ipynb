{
 "cells": [
  {
   "cell_type": "markdown",
   "metadata": {},
   "source": [
    "# Funkcie\n",
    "Funkcie su kusy kodu, ktore robia jednu konkretnu vec a daju sa viac krat pouzit.\n",
    "\n",
    "## Systemove funkcie\n",
    "Doteraz sme pouzili niektore fukncie, ktore nam poskytuje priamo Python"
   ]
  },
  {
   "cell_type": "code",
   "execution_count": null,
   "metadata": {},
   "outputs": [],
   "source": [
    "# Funkcia print() vypise premenne, ktore jej posleme\n",
    "pozdrav = [\"Ahoj\", \"svet!\"]\n",
    "print(pozdrav)\n",
    "\n",
    "# Funkcia len() vrati dlzku premennej, ktoru jej posleme\n",
    "pocetSlov = len(pozdrav)\n",
    "print(pocetSlov)"
   ]
  },
  {
   "cell_type": "markdown",
   "metadata": {},
   "source": [
    "Funkcii, ktore nam poskytuje Python je neskutocne vela. Aby to bolo trosku prehladnejsie, zoskupuju sa do takzvanych kniznic. Tiez sme uz nejaku tu kniznicu pouzili - volala sa **math**."
   ]
  },
  {
   "cell_type": "code",
   "execution_count": null,
   "metadata": {},
   "outputs": [],
   "source": [
    "import math\n",
    "\n",
    "# pouzili sme ju na zistenie hodnoty cisla PI\n",
    "print(math.pi)\n",
    "\n",
    "# pouzijeme funkciu z kniznice **math** isinfinite()\n",
    "cislo = 12.56\n",
    "print(math.isfinite(cislo))\n",
    "\n",
    "cislo = math.inf\n",
    "print(math.isfinite(cislo))\n"
   ]
  },
  {
   "cell_type": "markdown",
   "metadata": {},
   "source": [
    "Uloha: skus zistit, co robi funkcia **math.isfinite()**\n",
    "\n",
    "## Parametre\n",
    "Urcite ste si vsimli, ze vacsinou nieco do funkcie posielame, a na zaklade poslanych hodnot nam funkcia nieco vrati. Tieto posielane veci sa volaju *parametre*. Ak funkcia nejake parametre ocakava, tak ich aj vyzaduje, ked ich neposlete, ohlasi chybu."
   ]
  },
  {
   "cell_type": "code",
   "execution_count": null,
   "metadata": {},
   "outputs": [],
   "source": [
    "print(len())"
   ]
  },
  {
   "cell_type": "markdown",
   "metadata": {},
   "source": [
    "Takisto funkcia ohlasi chybu, ak jej poslete parametre, ktore su navyse"
   ]
  },
  {
   "cell_type": "code",
   "execution_count": null,
   "metadata": {},
   "outputs": [],
   "source": [
    "pozdrav = [\"Ahoj\"]\n",
    "pozdrav2 = [\"Svet\"]\n",
    "print(len(pozdrav, pozdrav2))"
   ]
  },
  {
   "cell_type": "markdown",
   "metadata": {},
   "source": [
    "Alebo parametre, ktore su ineho typu ako chce. Napriklad, ked jej poslete omylom namiesto cisla pozdrav"
   ]
  },
  {
   "cell_type": "code",
   "execution_count": null,
   "metadata": {},
   "outputs": [],
   "source": [
    "import math\n",
    "\n",
    "cislo = \"Ahoj\"\n",
    "jeTotoKonecneCislo = math.isinf(cislo)"
   ]
  },
  {
   "cell_type": "markdown",
   "metadata": {},
   "source": [
    "## Vlastna funkcia: pozdrav ma\n",
    "Teraz si napiseme vlastnu funkciu, ktora bude chciet ako parameter meno a pozdravi nas."
   ]
  },
  {
   "cell_type": "code",
   "execution_count": null,
   "metadata": {},
   "outputs": [],
   "source": [
    "def pozdravMa(meno):\n",
    "    print(\"Ahoj, {}!\".format(meno))\n",
    "\n",
    "pozdravMa(\"Janko\")\n",
    "pozdravMa(12.56)"
   ]
  },
  {
   "cell_type": "markdown",
   "metadata": {},
   "source": [
    "## Vlastna funkcia: nasobenie\n",
    "Tato jednoducha funkcia ocakava ako parameter dve cisla, ktore vynasobi. Potom nam ich vrati naspat."
   ]
  },
  {
   "cell_type": "code",
   "execution_count": null,
   "metadata": {},
   "outputs": [],
   "source": [
    "def nasobenie(cislo1, cislo2):\n",
    "    return cislo1 * cislo2\n",
    "\n",
    "vysledok = nasobenie(10, 2)\n",
    "print(vysledok)\n",
    "\n",
    "vysledok = nasobenie(4, 8)\n",
    "print(vysledok)"
   ]
  }
 ],
 "metadata": {
  "interpreter": {
   "hash": "31f2aee4e71d21fbe5cf8b01ff0e069b9275f58929596ceb00d14d90e3e16cd6"
  },
  "kernelspec": {
   "display_name": "Python 3.7.3 64-bit",
   "language": "python",
   "name": "python3"
  },
  "language_info": {
   "codemirror_mode": {
    "name": "ipython",
    "version": 3
   },
   "file_extension": ".py",
   "mimetype": "text/x-python",
   "name": "python",
   "nbconvert_exporter": "python",
   "pygments_lexer": "ipython3",
   "version": "3.7.3"
  },
  "orig_nbformat": 4
 },
 "nbformat": 4,
 "nbformat_minor": 2
}
