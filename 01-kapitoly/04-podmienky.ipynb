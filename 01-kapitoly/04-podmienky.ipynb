{
 "cells": [
  {
   "cell_type": "markdown",
   "metadata": {},
   "source": [
    "# Podmienky\n",
    "\n",
    "Určujú, čo sa má stať, ak sa rovnajú nejaké hodnoty alebo ak nastane nejaká situácia"
   ]
  },
  {
   "cell_type": "code",
   "execution_count": null,
   "metadata": {},
   "outputs": [],
   "source": [
    "numTretina = 1/3\n",
    "numPatina = 1/5\n"
   ]
  },
  {
   "cell_type": "markdown",
   "metadata": {},
   "source": [
    "## Jednoduché porovnávanie"
   ]
  },
  {
   "cell_type": "code",
   "execution_count": null,
   "metadata": {},
   "outputs": [],
   "source": [
    "if numTretina == numPatina:\n",
    "    print(\"Tretina sa rovná pätine, svet nefunguje\")\n",
    "\n",
    "if numPatina == 0.2:\n",
    "    print(\"Všetko je tak, ako má byť, pätina je 0,2\")"
   ]
  },
  {
   "cell_type": "markdown",
   "metadata": {},
   "source": [
    "## Porovnávanie ak, inak"
   ]
  },
  {
   "cell_type": "code",
   "execution_count": null,
   "metadata": {},
   "outputs": [],
   "source": [
    "if numTretina == numPatina:\n",
    "    print(\"Tretina sa rovná pätine, svet nefunguje\")\n",
    "else:\n",
    "    print(\"Ale čoby, funguje...\")"
   ]
  },
  {
   "cell_type": "markdown",
   "metadata": {},
   "source": [
    "## Porovnávanie ak, inak ak, ..."
   ]
  },
  {
   "cell_type": "code",
   "execution_count": null,
   "metadata": {},
   "outputs": [],
   "source": [
    "if numTretina == numPatina:\n",
    "    print(\"Tretina sa rovná pätine, svet nefunguje\")\n",
    "elif numTretina != numPatina:\n",
    "    print(\"Ale čoby, funguje...\")"
   ]
  },
  {
   "cell_type": "code",
   "execution_count": null,
   "metadata": {},
   "outputs": [],
   "source": [
    "oslovenie = \"NAZDAR\"\n",
    "\n",
    "if oslovenie.lower() == \"ahoj\":\n",
    "    print(\"Aj tebe ahoj!\")\n",
    "elif oslovenie.lower() == \"servus\":\n",
    "    print(\"Aj tebe servus!\")\n",
    "elif oslovenie.lower() == \"nazdar\":\n",
    "    print(\"Aj tebe nazdar!\")\n",
    "else:\n",
    "    print(\"Nie si zdvorilý, nauč sa zdraviť!\")"
   ]
  },
  {
   "cell_type": "markdown",
   "metadata": {},
   "source": [
    "## Zložené podmienky"
   ]
  },
  {
   "cell_type": "code",
   "execution_count": 11,
   "metadata": {},
   "outputs": [
    {
     "name": "stdout",
     "output_type": "stream",
     "text": [
      "Heuréka!\n"
     ]
    }
   ],
   "source": [
    "numJedna = 1\n",
    "numDva = 2\n",
    "numTri = 3\n",
    "\n",
    "if numJedna == 1 and numDva == 2:\n",
    "    print(\"Heuréka!\")\n",
    "    "
   ]
  },
  {
   "cell_type": "code",
   "execution_count": 14,
   "metadata": {},
   "outputs": [
    {
     "name": "stdout",
     "output_type": "stream",
     "text": [
      "Heuréka!\n",
      "Heuréka!?\n"
     ]
    }
   ],
   "source": [
    "numJedna = 1\n",
    "numDva = 2\n",
    "\n",
    "if numJedna == 2 or numDva == 2:\n",
    "    print(\"Heuréka!\")\n",
    "\n",
    "if (numJedna == 2 or numDva == 1) and (numJedna == 1):\n",
    "    print(\"Heuréka?\")\n",
    "\n",
    "if (numJedna == 2 or numDva == 1) or (numJedna == 1):\n",
    "    print(\"Heuréka!?\")"
   ]
  }
 ],
 "metadata": {
  "interpreter": {
   "hash": "31f2aee4e71d21fbe5cf8b01ff0e069b9275f58929596ceb00d14d90e3e16cd6"
  },
  "kernelspec": {
   "display_name": "Python 3.7.3 64-bit",
   "language": "python",
   "name": "python3"
  },
  "language_info": {
   "codemirror_mode": {
    "name": "ipython",
    "version": 3
   },
   "file_extension": ".py",
   "mimetype": "text/x-python",
   "name": "python",
   "nbconvert_exporter": "python",
   "pygments_lexer": "ipython3",
   "version": "3.7.3"
  },
  "orig_nbformat": 4
 },
 "nbformat": 4,
 "nbformat_minor": 2
}
