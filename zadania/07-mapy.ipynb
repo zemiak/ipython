{
 "cells": [
  {
   "cell_type": "markdown",
   "metadata": {},
   "source": [
    "# Mapy\n",
    "Mapy su polia, ktore na zaklade zadaneho kluca vratia hodnotu. V Pythone sa volaju \"slovniky\" -- anglicky dictionary, v skratke dict"
   ]
  },
  {
   "cell_type": "code",
   "execution_count": null,
   "metadata": {},
   "outputs": [],
   "source": [
    "obdlznik = {\n",
    "    \"farba\": \"modra\",\n",
    "    \"dlzka\": 20,\n",
    "    \"sirka\": 10,\n",
    "    \"jednotkaDlzky\": \"cm\"\n",
    "}\n",
    "print(obdlznik)"
   ]
  },
  {
   "cell_type": "markdown",
   "metadata": {},
   "source": [
    "## Z mapy mozeme vyberat jednotlive prvky"
   ]
  },
  {
   "cell_type": "code",
   "execution_count": null,
   "metadata": {},
   "outputs": [],
   "source": [
    "obdlznik = {\n",
    "    \"farba\": \"modra\",\n",
    "    \"dlzka\": 20,\n",
    "    \"sirka\": 10,\n",
    "    \"jednotkaDlzky\": \"cm\"\n",
    "}\n",
    "\n",
    "print(obdlznik[\"sirka\"])"
   ]
  },
  {
   "cell_type": "markdown",
   "metadata": {},
   "source": [
    "## Mozeme pridavat nove a mazat stare"
   ]
  },
  {
   "cell_type": "code",
   "execution_count": null,
   "metadata": {},
   "outputs": [],
   "source": [
    "obdlznik = {\n",
    "    \"farba\": \"modra\",\n",
    "    \"dlzka\": 20,\n",
    "    \"sirka\": 10,\n",
    "    \"jednotkaDlzky\": \"cm\"\n",
    "}\n",
    "\n",
    "obdlznik[\"farbaOkraju\"] = \"zlta\"\n",
    "print(obdlznik[\"farbaOkraju\"])"
   ]
  },
  {
   "cell_type": "code",
   "execution_count": null,
   "metadata": {},
   "outputs": [],
   "source": [
    "obdlznik = {\n",
    "    \"farba\": \"modra\",\n",
    "    \"dlzka\": 20,\n",
    "    \"sirka\": 10,\n",
    "    \"jednotkaDlzky\": \"cm\"\n",
    "}\n",
    "\n",
    "del obdlznik[\"jednotkaDlzky\"]\n",
    "print(obdlznik)"
   ]
  },
  {
   "cell_type": "markdown",
   "metadata": {},
   "source": [
    "## Mapa moze byt aj zlozitejsia"
   ]
  },
  {
   "cell_type": "code",
   "execution_count": null,
   "metadata": {},
   "outputs": [],
   "source": [
    "matus = {\n",
    "    \"meno\": \"Matus\",\n",
    "    \"vek\": 12\n",
    "}\n",
    "\n",
    "maruska = {\n",
    "    \"meno\": \"Maruska\",\n",
    "    \"vek\": 10\n",
    "}\n",
    "\n",
    "michal = {\n",
    "    \"meno\": \"Michal\",\n",
    "    \"vek\": 5\n",
    "}\n",
    "\n",
    "ludia = {\n",
    "    \"matus\": matus,\n",
    "    \"michal\": michal,\n",
    "    \"maruska\": maruska\n",
    "}\n",
    "\n",
    "print(ludia)"
   ]
  },
  {
   "cell_type": "markdown",
   "metadata": {},
   "source": [
    "## Vypiseme vsetkych ludi"
   ]
  },
  {
   "cell_type": "code",
   "execution_count": null,
   "metadata": {},
   "outputs": [],
   "source": [
    "ludia = {\"matus\": {\"meno\": \"Matus\", \"vek\": 12}, \"michal\": {\"meno\": \"Michal\", \"vek\": 5}, \"maruska\": {\"meno\": \"Maruska\", \"vek\": 10}}\n",
    "print(ludia.keys())"
   ]
  },
  {
   "cell_type": "markdown",
   "metadata": {},
   "source": [
    "## Celkovy a priemerny vek"
   ]
  },
  {
   "cell_type": "code",
   "execution_count": null,
   "metadata": {},
   "outputs": [],
   "source": [
    "ludia = {\"matus\": {\"meno\": \"Matus\", \"vek\": 12}, \"michal\": {\"meno\": \"Michal\", \"vek\": 5}, \"maruska\": {\"meno\": \"Maruska\", \"vek\": 10}}\n",
    "pocetLudi = len(ludia)\n",
    "\n",
    "celkovyVek = 0\n",
    "for kluc in ludia:\n",
    "    celkovyVek += ludia[kluc][\"vek\"]\n",
    "\n",
    "print(\"Spolu mate {} rokov\".format(celkovyVek))\n",
    "print(\"V mape je {} ludi\".format(pocetLudi))\n",
    "print(\"Priemerny vek je {}\".format(celkovyVek / pocetLudi))"
   ]
  }
 ],
 "metadata": {
  "interpreter": {
   "hash": "b0fa6594d8f4cbf19f97940f81e996739fb7646882a419484c72d19e05852a7e"
  },
  "kernelspec": {
   "display_name": "Python 3.9.10 64-bit",
   "language": "python",
   "name": "python3"
  },
  "language_info": {
   "codemirror_mode": {
    "name": "ipython",
    "version": 3
   },
   "file_extension": ".py",
   "mimetype": "text/x-python",
   "name": "python",
   "nbconvert_exporter": "python",
   "pygments_lexer": "ipython3",
   "version": "3.9.10"
  },
  "orig_nbformat": 4
 },
 "nbformat": 4,
 "nbformat_minor": 2
}
