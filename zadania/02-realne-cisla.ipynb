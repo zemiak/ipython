{
 "cells": [
  {
   "cell_type": "markdown",
   "metadata": {},
   "source": [
    "# Reálne čísla"
   ]
  },
  {
   "cell_type": "code",
   "execution_count": 8,
   "metadata": {},
   "outputs": [],
   "source": [
    "numTretina = 1/3\n",
    "numTretinaBodka = 0.333333\n",
    "numPatina = 1/5\n",
    "numPatinaBodka = 0.2\n",
    "numPolovica = 0.5"
   ]
  },
  {
   "cell_type": "markdown",
   "metadata": {},
   "source": [
    "## Hranie sa s reálnymi číslami"
   ]
  },
  {
   "cell_type": "markdown",
   "metadata": {},
   "source": [
    "### Porovnávanie"
   ]
  },
  {
   "cell_type": "code",
   "execution_count": 5,
   "metadata": {},
   "outputs": [
    {
     "name": "stdout",
     "output_type": "stream",
     "text": [
      "False\n",
      "True\n"
     ]
    }
   ],
   "source": [
    "print(numTretina == numTretinaBodka)\n",
    "print(numPatina == numPatinaBodka)"
   ]
  },
  {
   "cell_type": "markdown",
   "metadata": {},
   "source": [
    "### Zaokrúhľovanie"
   ]
  },
  {
   "cell_type": "code",
   "execution_count": 16,
   "metadata": {},
   "outputs": [
    {
     "name": "stdout",
     "output_type": "stream",
     "text": [
      "1/3 round      0\n",
      "1/3 int        0\n",
      "0,5 round      0\n",
      "1,5 round      2\n",
      "2,5 round      2\n",
      "0,5 int        0\n",
      "0,5+0,5 round  1\n"
     ]
    }
   ],
   "source": [
    "print(\"1/3 round     \", round(numTretina))\n",
    "print(\"1/3 int       \", int(numTretina))\n",
    "print(\"0,5 round     \", round(numPolovica)) # Python zaokruhluje \"bankarsky\", polovicu zaokruhli na najblizsie parne cislo\n",
    "print(\"1,5 round     \", round(1.5)) # Python zaokruhluje \"bankarsky\", polovicu zaokruhli na najblizsie parne cislo\n",
    "print(\"2,5 round     \", round(2.5)) # Python zaokruhluje \"bankarsky\", polovicu zaokruhli na najblizsie parne cislo\n",
    "print(\"0,5 int       \", int(numPolovica))\n",
    "print(\"0,5+0,5 round \", round(numPolovica + 0.5))"
   ]
  },
  {
   "cell_type": "markdown",
   "metadata": {},
   "source": [
    "### Konštanty"
   ]
  },
  {
   "cell_type": "code",
   "execution_count": 20,
   "metadata": {},
   "outputs": [
    {
     "name": "stdout",
     "output_type": "stream",
     "text": [
      "3.141592653589793\n",
      "2.718281828459045\n"
     ]
    }
   ],
   "source": [
    "import math\n",
    "\n",
    "print(math.pi)\n",
    "print(math.e)"
   ]
  }
 ],
 "metadata": {
  "interpreter": {
   "hash": "31f2aee4e71d21fbe5cf8b01ff0e069b9275f58929596ceb00d14d90e3e16cd6"
  },
  "kernelspec": {
   "display_name": "Python 3.7.3 64-bit",
   "language": "python",
   "name": "python3"
  },
  "language_info": {
   "codemirror_mode": {
    "name": "ipython",
    "version": 3
   },
   "file_extension": ".py",
   "mimetype": "text/x-python",
   "name": "python",
   "nbconvert_exporter": "python",
   "pygments_lexer": "ipython3",
   "version": "3.7.3"
  },
  "orig_nbformat": 4
 },
 "nbformat": 4,
 "nbformat_minor": 2
}
