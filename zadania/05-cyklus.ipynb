{
 "cells": [
  {
   "cell_type": "markdown",
   "metadata": {},
   "source": [
    "# Opakovanie, cykly"
   ]
  },
  {
   "cell_type": "markdown",
   "metadata": {},
   "source": [
    "## Cyklus \"for\": základné opakovanie v zozname\n",
    "* všimni si začiatočné a konečné vypísané číslo\n",
    "* funkcia range() vracia zoznam čísel\n"
   ]
  },
  {
   "cell_type": "code",
   "execution_count": null,
   "metadata": {},
   "outputs": [],
   "source": [
    "for i in range(2):\n",
    "    print(i)"
   ]
  },
  {
   "cell_type": "markdown",
   "metadata": {},
   "source": [
    "* v zozname môžu byť aj iné veci ako čísla"
   ]
  },
  {
   "cell_type": "code",
   "execution_count": null,
   "metadata": {},
   "outputs": [],
   "source": [
    "zoznam = [\"Ahoj\", \"Matúš\", \"si\", 1, \"ka!\"]\n",
    "for i in zoznam:\n",
    "    print(i)"
   ]
  },
  {
   "cell_type": "markdown",
   "metadata": {},
   "source": [
    "## Cyklus \"while\" --> \"pokiaľ\"\n",
    "* cyklus while beží pokiaľ **platí** zadaná podmienka"
   ]
  },
  {
   "cell_type": "code",
   "execution_count": null,
   "metadata": {},
   "outputs": [],
   "source": [
    "i = 0\n",
    "while (i < 2):\n",
    "    print(i)\n",
    "    i += 1"
   ]
  },
  {
   "cell_type": "markdown",
   "metadata": {},
   "source": [
    "## Preskakovanie niektorých vecí zo zoznamu\n",
    "Úloha: vypíš len párne čísla\n",
    "* všimni si: slovo **continue** tu znamená, že sa preskočia príkazy za ním, ale len tie, ktoré patria do opakovania. Posledné \"Hotovo\" sa vypíše\n",
    "* všimni si: obidva riadky za podmienkou **if** sú rovnako odsadené, to znamená, že patria do tej jednej podmienky\n"
   ]
  },
  {
   "cell_type": "code",
   "execution_count": null,
   "metadata": {},
   "outputs": [],
   "source": [
    "for i in range(6):\n",
    "    if (i % 2 != 0):\n",
    "        # ak zvysok po deleni dvojkou nie je nula, je to neparne cislo\n",
    "        continue\n",
    "    print(i)\n",
    "print(\"Hotovo.\")"
   ]
  },
  {
   "cell_type": "markdown",
   "metadata": {},
   "source": [
    "## Predčasné ukončenie celého cyklu\n",
    "Niekedy je nutné preskočiť celé opakovanie, napríklad keď nastane nejaká chyba.\n",
    "### Ako\n",
    "Keď použiješ slovo **break**, cyklus sa hneď ukončí.\n",
    "### Úloha\n",
    "Vypíš párne čísla, ktoré ti poslala iná funkcia. Ak je nejaké číslo nepárne, vypíš chybu a skonči.\n",
    "* všimni si: čo sa stane s posledným číslom?"
   ]
  },
  {
   "cell_type": "code",
   "execution_count": null,
   "metadata": {},
   "outputs": [],
   "source": [
    "zoznam = [2, 4, 10, 3, 12]\n",
    "for i in zoznam:\n",
    "    if (i % 2 != 0):\n",
    "        print(\"Číslo {} nie je párne číslo.\".format(i))\n",
    "        break\n",
    "    print(i)\n",
    "print(\"Hotovo.\")"
   ]
  }
 ],
 "metadata": {
  "interpreter": {
   "hash": "b0fa6594d8f4cbf19f97940f81e996739fb7646882a419484c72d19e05852a7e"
  },
  "kernelspec": {
   "display_name": "Python 3.9.10 64-bit",
   "language": "python",
   "name": "python3"
  },
  "language_info": {
   "codemirror_mode": {
    "name": "ipython",
    "version": 3
   },
   "file_extension": ".py",
   "mimetype": "text/x-python",
   "name": "python",
   "nbconvert_exporter": "python",
   "pygments_lexer": "ipython3",
   "version": "3.9.10"
  },
  "orig_nbformat": 4
 },
 "nbformat": 4,
 "nbformat_minor": 2
}
