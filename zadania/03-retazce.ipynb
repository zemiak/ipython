{
 "cells": [
  {
   "cell_type": "markdown",
   "metadata": {},
   "source": [
    "# Reťazce (text)\n",
    "\n",
    "Reťazec (text) sa skladá z viacerých znakov, je uzavretý v úvodzovkách: \"Ahoj, deTI!\""
   ]
  },
  {
   "cell_type": "code",
   "execution_count": 1,
   "metadata": {},
   "outputs": [
    {
     "name": "stdout",
     "output_type": "stream",
     "text": [
      "Ahoj, NEposluŠNÉ deTI!\n"
     ]
    }
   ],
   "source": [
    "text = \"Ahoj, NEposluŠNÉ deTI!\"\n",
    "print(text)"
   ]
  },
  {
   "cell_type": "markdown",
   "metadata": {},
   "source": [
    "## Spájanie reťazcov"
   ]
  },
  {
   "cell_type": "code",
   "execution_count": 3,
   "metadata": {},
   "outputs": [
    {
     "name": "stdout",
     "output_type": "stream",
     "text": [
      "Ahoj, NEposluŠNÉ deTI!\n"
     ]
    }
   ],
   "source": [
    "pozdrav = \"Ahoj\"\n",
    "kohoPozdravim = \"NEposluŠNÉ deTI\"\n",
    "celyText = pozdrav + \", \" + kohoPozdravim + \"!\"\n",
    "print(celyText)"
   ]
  },
  {
   "cell_type": "markdown",
   "metadata": {},
   "source": [
    "### Hranie sa s textom"
   ]
  },
  {
   "cell_type": "code",
   "execution_count": 7,
   "metadata": {},
   "outputs": [
    {
     "name": "stdout",
     "output_type": "stream",
     "text": [
      "Ahoj, neposlušné deti!\n",
      "AHOJ, NEPOSLUŠNÉ DETI!\n",
      "ahoj, neposlušné deti!\n",
      "ahoj, neposlušné deti!\n",
      "ahoj !\n"
     ]
    }
   ],
   "source": [
    "print(celyText.capitalize())\n",
    "print(celyText.upper())\n",
    "print(celyText.lower())\n",
    "print(\"    ahoj !   \".strip())"
   ]
  },
  {
   "cell_type": "markdown",
   "metadata": {},
   "source": [
    "### Porovnávanie"
   ]
  },
  {
   "cell_type": "code",
   "execution_count": 8,
   "metadata": {},
   "outputs": [
    {
     "name": "stdout",
     "output_type": "stream",
     "text": [
      "True\n",
      "False\n",
      "False\n",
      "False\n"
     ]
    }
   ],
   "source": [
    "print(\"ahoj\" == \"ahoj\")\n",
    "print(\"ahoj\" == \"ahoj \")\n",
    "print(\"ahoj\" == \"Ahoj\")\n",
    "print(\"Matúš\" == \"Matuš\")"
   ]
  },
  {
   "cell_type": "markdown",
   "metadata": {},
   "source": [
    "### Porovnávanie a nahradzovanie"
   ]
  },
  {
   "cell_type": "code",
   "execution_count": 9,
   "metadata": {},
   "outputs": [
    {
     "name": "stdout",
     "output_type": "stream",
     "text": [
      "True\n",
      "False\n",
      "True\n"
     ]
    }
   ],
   "source": [
    "print(celyText.startswith(\"Ahoj\"))\n",
    "print(celyText.startswith(\"ahoj\"))\n",
    "print(celyText.lower().startswith(\"ahoj\"))"
   ]
  },
  {
   "cell_type": "code",
   "execution_count": 10,
   "metadata": {},
   "outputs": [
    {
     "name": "stdout",
     "output_type": "stream",
     "text": [
      "0\n",
      "1\n",
      "2\n"
     ]
    }
   ],
   "source": [
    "print(celyText.count(\"a\"))\n",
    "print(celyText.count(\"A\"))\n",
    "print(celyText.count(\" \"))"
   ]
  },
  {
   "cell_type": "code",
   "execution_count": 12,
   "metadata": {},
   "outputs": [
    {
     "name": "stdout",
     "output_type": "stream",
     "text": [
      "Ahoj,-neposlušné-deti!\n"
     ]
    }
   ],
   "source": [
    "print(celyText.capitalize().replace(\" \", \"-\"))"
   ]
  },
  {
   "cell_type": "markdown",
   "metadata": {},
   "source": [
    "### Šablóny"
   ]
  },
  {
   "cell_type": "code",
   "execution_count": 14,
   "metadata": {},
   "outputs": [
    {
     "name": "stdout",
     "output_type": "stream",
     "text": [
      "Ahoj, NEposluŠNÉ deTI!\n"
     ]
    }
   ],
   "source": [
    "sablona = \"{}, {}!\"\n",
    "print(sablona.format(pozdrav, kohoPozdravim))"
   ]
  },
  {
   "cell_type": "code",
   "execution_count": 18,
   "metadata": {},
   "outputs": [
    {
     "name": "stdout",
     "output_type": "stream",
     "text": [
      "Pozdrav číslo 1\n",
      "Pozdrav číslo 2\n",
      "Pozdrav číslo 3\n",
      "Pozdrav číslo 4\n"
     ]
    }
   ],
   "source": [
    "for i in range(1, 5):\n",
    "    print(\"Pozdrav číslo {}\".format(i))"
   ]
  }
 ],
 "metadata": {
  "interpreter": {
   "hash": "31f2aee4e71d21fbe5cf8b01ff0e069b9275f58929596ceb00d14d90e3e16cd6"
  },
  "kernelspec": {
   "display_name": "Python 3.7.3 64-bit",
   "language": "python",
   "name": "python3"
  },
  "language_info": {
   "codemirror_mode": {
    "name": "ipython",
    "version": 3
   },
   "file_extension": ".py",
   "mimetype": "text/x-python",
   "name": "python",
   "nbconvert_exporter": "python",
   "pygments_lexer": "ipython3",
   "version": "3.7.3"
  },
  "orig_nbformat": 4
 },
 "nbformat": 4,
 "nbformat_minor": 2
}
