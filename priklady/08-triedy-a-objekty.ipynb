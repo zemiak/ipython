{
 "cells": [
  {
   "cell_type": "markdown",
   "metadata": {},
   "source": [
    "# Triedy\n",
    "Triedy su nieco ako druhy zvierat alebo druhy inych veci.\n",
    "\n",
    "## Pokemonove karty\n",
    "Tento druh kariet bude obsahovat vlastnosti pokemonovych kariet. Zaloz si triedu PokemonKarta. Bude mat jednu vlastnost: silu utoku. Napis v tejto triede funkciu, ktora nastavi silu utoku ako cele cislo.\n",
    "\n",
    "Potom napis funciu, ktora ti vypise hodnotu utoku."
   ]
  },
  {
   "cell_type": "code",
   "execution_count": null,
   "metadata": {},
   "outputs": [],
   "source": [
    "class PokemonKarta:\n",
    "    ### vlastnost: sila utoku\n",
    "    ### funkcia: nastav silu utoku\n",
    "    ### funkcia: vypis silu utoku\n",
    "\n",
    "karta = PokemonKarta()\n",
    "### nastav silu utoku na 150\n",
    "### vypis silu utoku\n"
   ]
  },
  {
   "cell_type": "markdown",
   "metadata": {},
   "source": [
    "### Zaloz podtriedy\n",
    "Zaloz dve podtriedy, jeden bude Pikacu a druhy MewTwo. Nastav kazdemu vo funkcii **__init__(self)** tu spravnu silu utoku. Potom tieto karty vytvor a vypis ich silu utokov."
   ]
  },
  {
   "cell_type": "code",
   "execution_count": null,
   "metadata": {},
   "outputs": [],
   "source": [
    "class Pikacu(PokemonKarta):\n",
    "    ### nastav silu utoku v init()\n",
    "\n",
    "class MewTwo(PokemonKarta):\n",
    "    ### nastav silu utoku v init()\n",
    "\n",
    "pikacu = Pikacu()\n",
    "### vypis silu utoku\n",
    "\n",
    "mewtwo = MewTwo()\n",
    "### vypis silu utoku"
   ]
  },
  {
   "cell_type": "markdown",
   "metadata": {},
   "source": [
    "## Rozsirovanie moznosti tried\n",
    "\n",
    "Dopln do **PokemonKarta** funkciu **utok(self)**. V kazdej podtriede, *Pikachu* a *MewTwo* sprav fuknciu **utok(self)**, kde vypises pomocou textovych sablon:\n",
    "`Ja, (Nazov pokemona), utocim silou (sila)."
   ]
  },
  {
   "cell_type": "code",
   "execution_count": null,
   "metadata": {},
   "outputs": [],
   "source": [
    "# ..."
   ]
  },
  {
   "cell_type": "markdown",
   "metadata": {},
   "source": [
    "### Rozsirovanie moznosti tried (2)\n",
    "\n",
    "Skus porozmyslat, ci by sa funkcia **utok(self)** nedala napisat lepsie tak, aby si ju nemusel pisat pre kazdeho pokemona zvlast. Navrhni, ako."
   ]
  }
 ],
 "metadata": {
  "interpreter": {
   "hash": "31f2aee4e71d21fbe5cf8b01ff0e069b9275f58929596ceb00d14d90e3e16cd6"
  },
  "kernelspec": {
   "display_name": "Python 3.7.3 64-bit",
   "language": "python",
   "name": "python3"
  },
  "language_info": {
   "codemirror_mode": {
    "name": "ipython",
    "version": 3
   },
   "file_extension": ".py",
   "mimetype": "text/x-python",
   "name": "python",
   "nbconvert_exporter": "python",
   "pygments_lexer": "ipython3",
   "version": "3.7.3"
  },
  "orig_nbformat": 4
 },
 "nbformat": 4,
 "nbformat_minor": 2
}
