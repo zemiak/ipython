{
 "cells": [
  {
   "cell_type": "markdown",
   "metadata": {},
   "source": [
    "# Podmienky (if / then / else)\n",
    "\n",
    "* vytvor si dve premenne, cislo s hodnotou 1/3 a 0.333333333333\n",
    "* ak sa rovnaju, vypis \"rovne\"\n",
    "* inak vypis \"nerovne\"\n",
    "* pridaj inu premennu s hodnotou 3/3 minus 2/3\n",
    "* vypis \"aspon jedno je rovne\" ak sa aspon jedna dvojica z troch cisel rovna inak napis \"vsetky nerovne\""
   ]
  },
  {
   "cell_type": "code",
   "execution_count": null,
   "metadata": {},
   "outputs": [],
   "source": [
    "# ..."
   ]
  }
 ],
 "metadata": {
  "interpreter": {
   "hash": "31f2aee4e71d21fbe5cf8b01ff0e069b9275f58929596ceb00d14d90e3e16cd6"
  },
  "kernelspec": {
   "display_name": "Python 3.7.3 64-bit",
   "language": "python",
   "name": "python3"
  },
  "language_info": {
   "codemirror_mode": {
    "name": "ipython",
    "version": 3
   },
   "file_extension": ".py",
   "mimetype": "text/x-python",
   "name": "python",
   "nbconvert_exporter": "python",
   "pygments_lexer": "ipython3",
   "version": "3.7.3"
  },
  "orig_nbformat": 4
 },
 "nbformat": 4,
 "nbformat_minor": 2
}
