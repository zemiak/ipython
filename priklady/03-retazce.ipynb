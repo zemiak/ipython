{
 "cells": [
  {
   "cell_type": "markdown",
   "metadata": {},
   "source": [
    "# Reťazce (text)\n",
    "\n",
    "* Vytvor si premennu s textom \"  Chlpata Liska Skakala Cez PLOT  !\"\n",
    "* vypis ju\n",
    "* vypis ju s malymi pismenami\n",
    "* vypis ju s velkymi pismenami\n",
    "* vypis ju bez medzier"
   ]
  },
  {
   "cell_type": "code",
   "execution_count": null,
   "metadata": {},
   "outputs": [],
   "source": [
    "# ..."
   ]
  },
  {
   "cell_type": "markdown",
   "metadata": {},
   "source": [
    "## Spájanie reťazcov\n",
    "* vytvor premenne pozdrav a meno\n",
    "* spoj ich dohromady a vypis"
   ]
  },
  {
   "cell_type": "code",
   "execution_count": null,
   "metadata": {},
   "outputs": [],
   "source": [
    "# ..."
   ]
  },
  {
   "cell_type": "markdown",
   "metadata": {},
   "source": [
    "### Porovnávanie\n",
    "* vytvor si premenne \"ahoj\" a \"AHOJ\"\n",
    "* porovnaj, ci sa rovnaju, vysvetli vysledok\n",
    "* porovnaj ich tak, ze z nich spravis velke pismena"
   ]
  },
  {
   "cell_type": "code",
   "execution_count": null,
   "metadata": {},
   "outputs": [],
   "source": [
    "# ..."
   ]
  },
  {
   "cell_type": "markdown",
   "metadata": {},
   "source": [
    "### Porovnávanie a nahradzovanie\n",
    "* vytvor si premennu s textom \"  Chlpata Liska Skakala Cez PLOT  !\"\n",
    "* spocitaj, kolko je v nej medzier\n",
    "* kolko je v nej malych pismen \"a\"\n",
    "* kolko ma znakov\n",
    "* ci konci s vykricnikom\n",
    "* nahrad pismena \"a\" s pismenom \"A\" a vypis"
   ]
  },
  {
   "cell_type": "code",
   "execution_count": null,
   "metadata": {},
   "outputs": [],
   "source": [
    "# ..."
   ]
  },
  {
   "cell_type": "markdown",
   "metadata": {},
   "source": [
    "### Šablóny\n",
    "* vytvor premenne pozdrav a meno\n",
    "* vypis ich s pomocou sablony - {}, funkcia .format()"
   ]
  },
  {
   "cell_type": "code",
   "execution_count": null,
   "metadata": {},
   "outputs": [],
   "source": [
    "# ..."
   ]
  }
 ],
 "metadata": {
  "interpreter": {
   "hash": "31f2aee4e71d21fbe5cf8b01ff0e069b9275f58929596ceb00d14d90e3e16cd6"
  },
  "kernelspec": {
   "display_name": "Python 3.7.3 64-bit",
   "language": "python",
   "name": "python3"
  },
  "language_info": {
   "codemirror_mode": {
    "name": "ipython",
    "version": 3
   },
   "file_extension": ".py",
   "mimetype": "text/x-python",
   "name": "python",
   "nbconvert_exporter": "python",
   "pygments_lexer": "ipython3",
   "version": "3.7.3"
  },
  "orig_nbformat": 4
 },
 "nbformat": 4,
 "nbformat_minor": 2
}
