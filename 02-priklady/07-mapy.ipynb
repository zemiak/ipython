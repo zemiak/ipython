{
 "cells": [
  {
   "cell_type": "markdown",
   "metadata": {},
   "source": [
    "# Mapy\n",
    "Mapy su polia, ktore na zaklade zadaneho kluca vratia hodnotu. V Pythone sa volaju \"slovniky\" -- anglicky dictionary, v skratke dict\n",
    "* vytvor mapu vlastnosti vybranej pokemonovej karty: meno, odolnost, sila utoku, farba, vek a cena. vypis\n",
    "* vypis z mapy iba cenu\n",
    "* pridaj do mapy novu vlastnost: poradie v zbierke a vypis celu mapu aby si si overil, ze tam je\n",
    "* vymaz z mapy vlastnost - cenu"
   ]
  },
  {
   "cell_type": "code",
   "execution_count": null,
   "metadata": {},
   "outputs": [],
   "source": [
    "# ..."
   ]
  },
  {
   "cell_type": "markdown",
   "metadata": {},
   "source": [
    "## Mapa moze byt aj zlozitejsia\n",
    "* vytvor si mapu vlastnosti pre 3 karty\n",
    "* pridaj kazd tuto kartu do dalsej mapy. kluc v mape kariet bude jej meno\n",
    "* vypis"
   ]
  },
  {
   "cell_type": "code",
   "execution_count": null,
   "metadata": {},
   "outputs": [],
   "source": [
    "# ..."
   ]
  },
  {
   "cell_type": "markdown",
   "metadata": {},
   "source": [
    "## Vypiseme vsetky mena\n",
    "* vypis z mapy kluce (mena) kariet\n",
    "* vypis pocet kariet v mape"
   ]
  },
  {
   "cell_type": "code",
   "execution_count": null,
   "metadata": {},
   "outputs": [],
   "source": [
    "# ..."
   ]
  },
  {
   "cell_type": "markdown",
   "metadata": {},
   "source": [
    "## Cyklus a mapy\n",
    "* pouzi cyklus for s klucmi v mape, a spocitaj cenu vsetkych kariet. vypis"
   ]
  },
  {
   "cell_type": "code",
   "execution_count": null,
   "metadata": {},
   "outputs": [],
   "source": [
    "# ..."
   ]
  }
 ],
 "metadata": {
  "interpreter": {
   "hash": "b0fa6594d8f4cbf19f97940f81e996739fb7646882a419484c72d19e05852a7e"
  },
  "kernelspec": {
   "display_name": "Python 3.9.10 64-bit",
   "language": "python",
   "name": "python3"
  },
  "language_info": {
   "codemirror_mode": {
    "name": "ipython",
    "version": 3
   },
   "file_extension": ".py",
   "mimetype": "text/x-python",
   "name": "python",
   "nbconvert_exporter": "python",
   "pygments_lexer": "ipython3",
   "version": "3.9.10"
  },
  "orig_nbformat": 4
 },
 "nbformat": 4,
 "nbformat_minor": 2
}
