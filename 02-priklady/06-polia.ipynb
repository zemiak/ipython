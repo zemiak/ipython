{
 "cells": [
  {
   "cell_type": "markdown",
   "metadata": {},
   "source": [
    "# Kolekcie\n",
    "### alebo: polia, collections, zbierky (?)\n",
    "* vytvor zoznam pismen od \"A\" po \"G\"\n",
    "* vypis ich s pomocou jedneho prikazu (nie cyklu)\n",
    "* vypis, kolko prvkov ma pole"
   ]
  },
  {
   "cell_type": "code",
   "execution_count": null,
   "metadata": {},
   "outputs": [],
   "source": [
    "# ..."
   ]
  },
  {
   "cell_type": "markdown",
   "metadata": {},
   "source": [
    "## Pole sa da menit\n",
    "* zober si pole z prveho prikladu\n",
    "* pridaj na koniec pismeno \"Z\" a vypis\n",
    "* pridaj na zaciatok cislo 1 a vypis\n",
    "* vymaz pismeno \"D\" a vypis\n",
    "* vymaz predposledny prvok z pola a vypis"
   ]
  },
  {
   "cell_type": "code",
   "execution_count": null,
   "metadata": {},
   "outputs": [],
   "source": [
    "# ..."
   ]
  },
  {
   "cell_type": "markdown",
   "metadata": {},
   "source": [
    "## Vyhladavanie\n",
    "* zober si pole z prveho prikladu\n",
    "* najdi poziciu pismena \"A\". preco je vysledok taky aky je?"
   ]
  },
  {
   "cell_type": "code",
   "execution_count": null,
   "metadata": {},
   "outputs": [],
   "source": [
    "# ..."
   ]
  },
  {
   "cell_type": "markdown",
   "metadata": {},
   "source": [
    "## Rozsirovanie\n",
    "* vytvor dalsie pole s pismenami X, Y, Z\n",
    "* rozsir prve pole o to druhe (rozsir ho). vypis"
   ]
  },
  {
   "cell_type": "code",
   "execution_count": null,
   "metadata": {},
   "outputs": [],
   "source": [
    "# ..."
   ]
  },
  {
   "cell_type": "markdown",
   "metadata": {},
   "source": [
    "## Polia a cykly\n",
    "* vypis prvky pola pomocou cyklu for\n",
    "* vypis prvky pola pomocou cyklu while, premennej \"i\" a funkcie len()"
   ]
  },
  {
   "cell_type": "code",
   "execution_count": null,
   "metadata": {},
   "outputs": [],
   "source": [
    "# ..."
   ]
  }
 ],
 "metadata": {
  "interpreter": {
   "hash": "b0fa6594d8f4cbf19f97940f81e996739fb7646882a419484c72d19e05852a7e"
  },
  "kernelspec": {
   "display_name": "Python 3.9.10 64-bit",
   "language": "python",
   "name": "python3"
  },
  "language_info": {
   "codemirror_mode": {
    "name": "ipython",
    "version": 3
   },
   "file_extension": ".py",
   "mimetype": "text/x-python",
   "name": "python",
   "nbconvert_exporter": "python",
   "pygments_lexer": "ipython3",
   "version": "3.9.10"
  },
  "orig_nbformat": 4
 },
 "nbformat": 4,
 "nbformat_minor": 2
}
