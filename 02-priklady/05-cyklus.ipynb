{
 "cells": [
  {
   "cell_type": "markdown",
   "metadata": {},
   "source": [
    "# Opakovanie, cykly"
   ]
  },
  {
   "cell_type": "markdown",
   "metadata": {},
   "source": [
    "## Cyklus \"for\": základné opakovanie v zozname\n",
    "* vypis cisla od 0 po 9 s pomocou cyklu for a funkcie range()\n",
    "* vytvor zoznam pismen od \"a\" do \"g\" a vypis ich jedno po druhom pomocou cyklu for\n",
    "* vypis cisla od 1 po 10 s pomocou premennej a cyklu while\n"
   ]
  },
  {
   "cell_type": "code",
   "execution_count": null,
   "metadata": {},
   "outputs": [],
   "source": [
    "# ..."
   ]
  },
  {
   "cell_type": "markdown",
   "metadata": {},
   "source": [
    "## Preskakovanie niektorých vecí zo zoznamu\n",
    "* vytvor zoznam cisel od 1 po 10\n",
    "* vypis len neparne cisla s tym ze parne preskocis"
   ]
  },
  {
   "cell_type": "code",
   "execution_count": null,
   "metadata": {},
   "outputs": [],
   "source": [
    "# ..."
   ]
  },
  {
   "cell_type": "markdown",
   "metadata": {},
   "source": [
    "## Predčasné ukončenie celého cyklu\n",
    "* vytvor si zoznam s cislami od 1 po 10\n",
    "* vypis ich v cykle\n",
    "* ak narazis na cislo 7, ukonci cyklus\n",
    "* povedz, co sa stane s cislami 8, 9 a 10"
   ]
  },
  {
   "cell_type": "code",
   "execution_count": null,
   "metadata": {},
   "outputs": [],
   "source": [
    "# ..."
   ]
  }
 ],
 "metadata": {
  "interpreter": {
   "hash": "b0fa6594d8f4cbf19f97940f81e996739fb7646882a419484c72d19e05852a7e"
  },
  "kernelspec": {
   "display_name": "Python 3.9.10 64-bit",
   "language": "python",
   "name": "python3"
  },
  "language_info": {
   "codemirror_mode": {
    "name": "ipython",
    "version": 3
   },
   "file_extension": ".py",
   "mimetype": "text/x-python",
   "name": "python",
   "nbconvert_exporter": "python",
   "pygments_lexer": "ipython3",
   "version": "3.9.10"
  },
  "orig_nbformat": 4
 },
 "nbformat": 4,
 "nbformat_minor": 2
}
